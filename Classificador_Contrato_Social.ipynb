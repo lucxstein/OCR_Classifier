{
 "cells": [
  {
   "cell_type": "code",
   "execution_count": 5,
   "id": "377297ba-2636-4c78-8116-45ea78f1ac8a",
   "metadata": {},
   "outputs": [],
   "source": [
    "import os\n",
    "from pdf2image import convert_from_path\n",
    "import pytesseract\n",
    "from sklearn.model_selection import train_test_split\n",
    "from sklearn.feature_extraction.text import TfidfVectorizer\n",
    "from sklearn.svm import SVC\n",
    "from sklearn.metrics import classification_report\n",
    "from collections import defaultdict"
   ]
  },
  {
   "cell_type": "code",
   "execution_count": 6,
   "id": "62d7954c-e9f5-4da4-8a38-02c03098ed71",
   "metadata": {},
   "outputs": [],
   "source": [
    "# Função para extrair texto de uma imagem usando OCR\n",
    "\n",
    "caminho = \"C:/Program Files/Tesseract-OCR/tesseract.exe\"\n",
    "pytesseract.pytesseract.tesseract_cmd = caminho\n",
    "\n",
    "def extract_text_from_image(image_path):\n",
    "    return pytesseract.image_to_string(image_path)"
   ]
  },
  {
   "cell_type": "code",
   "execution_count": 7,
   "id": "e0d83343-4938-4ab8-b80b-df3c746b6378",
   "metadata": {},
   "outputs": [],
   "source": [
    "# Função para carregar dados de documentos PDF\n",
    "def load_data_from_pdfs(root_folder):\n",
    "    classes = defaultdict(list)\n",
    "    for subdir, dirs, files in os.walk(root_folder):\n",
    "        for file in files:\n",
    "            if file.endswith('.pdf'):\n",
    "                class_name = os.path.basename(subdir)\n",
    "                pdf_path = os.path.join(subdir, file)\n",
    "                images = convert_from_path(pdf_path, poppler_path= r'C:\\Users\\Ana Luiza\\poppler-24.02.0\\Library\\bin')\n",
    "                for idx, image in enumerate(images):\n",
    "                    image_text = extract_text_from_image(image)\n",
    "                    classes[class_name].append(image_text)\n",
    "    return classes"
   ]
  },
  {
   "cell_type": "code",
   "execution_count": 8,
   "id": "4324d38d-d545-480a-9737-3e414d36cef1",
   "metadata": {},
   "outputs": [],
   "source": [
    "# Carregar dados e dividir em conjuntos de treinamento e teste\n",
    "root_folder = \"data\"\n",
    "data = load_data_from_pdfs(root_folder)"
   ]
  },
  {
   "cell_type": "code",
   "execution_count": 9,
   "id": "bd71cf33-5aaf-420c-a0ba-70724cbd78c2",
   "metadata": {},
   "outputs": [],
   "source": [
    "X = []\n",
    "y = []\n",
    "for class_name, documents in data.items():\n",
    "    X.extend(documents)\n",
    "    y.extend([class_name] * len(documents))"
   ]
  },
  {
   "cell_type": "code",
   "execution_count": 16,
   "id": "44041528-f124-447c-915b-a8259bbe9515",
   "metadata": {},
   "outputs": [],
   "source": [
    "# Dividir dados em conjuntos de treinamento e teste\n",
    "X_train, X_test, y_train, y_test = train_test_split(X, y, test_size=0.4, random_state=42)"
   ]
  },
  {
   "cell_type": "code",
   "execution_count": 20,
   "id": "8fe494f8-907b-4ece-8e2a-2046fabcb248",
   "metadata": {},
   "outputs": [],
   "source": [
    "# Extrair características do texto usando TF-IDF\n",
    "vectorizer = TfidfVectorizer(max_features=50000)\n",
    "X_train_vectorized = vectorizer.fit_transform(X_train)\n",
    "X_test_vectorized = vectorizer.transform(X_test)"
   ]
  },
  {
   "cell_type": "code",
   "execution_count": 21,
   "id": "cce04b5c-d648-4f0f-b6fc-3c77198a4e0d",
   "metadata": {},
   "outputs": [
    {
     "data": {
      "text/html": [
       "<style>#sk-container-id-3 {color: black;}#sk-container-id-3 pre{padding: 0;}#sk-container-id-3 div.sk-toggleable {background-color: white;}#sk-container-id-3 label.sk-toggleable__label {cursor: pointer;display: block;width: 100%;margin-bottom: 0;padding: 0.3em;box-sizing: border-box;text-align: center;}#sk-container-id-3 label.sk-toggleable__label-arrow:before {content: \"▸\";float: left;margin-right: 0.25em;color: #696969;}#sk-container-id-3 label.sk-toggleable__label-arrow:hover:before {color: black;}#sk-container-id-3 div.sk-estimator:hover label.sk-toggleable__label-arrow:before {color: black;}#sk-container-id-3 div.sk-toggleable__content {max-height: 0;max-width: 0;overflow: hidden;text-align: left;background-color: #f0f8ff;}#sk-container-id-3 div.sk-toggleable__content pre {margin: 0.2em;color: black;border-radius: 0.25em;background-color: #f0f8ff;}#sk-container-id-3 input.sk-toggleable__control:checked~div.sk-toggleable__content {max-height: 200px;max-width: 100%;overflow: auto;}#sk-container-id-3 input.sk-toggleable__control:checked~label.sk-toggleable__label-arrow:before {content: \"▾\";}#sk-container-id-3 div.sk-estimator input.sk-toggleable__control:checked~label.sk-toggleable__label {background-color: #d4ebff;}#sk-container-id-3 div.sk-label input.sk-toggleable__control:checked~label.sk-toggleable__label {background-color: #d4ebff;}#sk-container-id-3 input.sk-hidden--visually {border: 0;clip: rect(1px 1px 1px 1px);clip: rect(1px, 1px, 1px, 1px);height: 1px;margin: -1px;overflow: hidden;padding: 0;position: absolute;width: 1px;}#sk-container-id-3 div.sk-estimator {font-family: monospace;background-color: #f0f8ff;border: 1px dotted black;border-radius: 0.25em;box-sizing: border-box;margin-bottom: 0.5em;}#sk-container-id-3 div.sk-estimator:hover {background-color: #d4ebff;}#sk-container-id-3 div.sk-parallel-item::after {content: \"\";width: 100%;border-bottom: 1px solid gray;flex-grow: 1;}#sk-container-id-3 div.sk-label:hover label.sk-toggleable__label {background-color: #d4ebff;}#sk-container-id-3 div.sk-serial::before {content: \"\";position: absolute;border-left: 1px solid gray;box-sizing: border-box;top: 0;bottom: 0;left: 50%;z-index: 0;}#sk-container-id-3 div.sk-serial {display: flex;flex-direction: column;align-items: center;background-color: white;padding-right: 0.2em;padding-left: 0.2em;position: relative;}#sk-container-id-3 div.sk-item {position: relative;z-index: 1;}#sk-container-id-3 div.sk-parallel {display: flex;align-items: stretch;justify-content: center;background-color: white;position: relative;}#sk-container-id-3 div.sk-item::before, #sk-container-id-3 div.sk-parallel-item::before {content: \"\";position: absolute;border-left: 1px solid gray;box-sizing: border-box;top: 0;bottom: 0;left: 50%;z-index: -1;}#sk-container-id-3 div.sk-parallel-item {display: flex;flex-direction: column;z-index: 1;position: relative;background-color: white;}#sk-container-id-3 div.sk-parallel-item:first-child::after {align-self: flex-end;width: 50%;}#sk-container-id-3 div.sk-parallel-item:last-child::after {align-self: flex-start;width: 50%;}#sk-container-id-3 div.sk-parallel-item:only-child::after {width: 0;}#sk-container-id-3 div.sk-dashed-wrapped {border: 1px dashed gray;margin: 0 0.4em 0.5em 0.4em;box-sizing: border-box;padding-bottom: 0.4em;background-color: white;}#sk-container-id-3 div.sk-label label {font-family: monospace;font-weight: bold;display: inline-block;line-height: 1.2em;}#sk-container-id-3 div.sk-label-container {text-align: center;}#sk-container-id-3 div.sk-container {/* jupyter's `normalize.less` sets `[hidden] { display: none; }` but bootstrap.min.css set `[hidden] { display: none !important; }` so we also need the `!important` here to be able to override the default hidden behavior on the sphinx rendered scikit-learn.org. See: https://github.com/scikit-learn/scikit-learn/issues/21755 */display: inline-block !important;position: relative;}#sk-container-id-3 div.sk-text-repr-fallback {display: none;}</style><div id=\"sk-container-id-3\" class=\"sk-top-container\"><div class=\"sk-text-repr-fallback\"><pre>SVC(kernel=&#x27;linear&#x27;)</pre><b>In a Jupyter environment, please rerun this cell to show the HTML representation or trust the notebook. <br />On GitHub, the HTML representation is unable to render, please try loading this page with nbviewer.org.</b></div><div class=\"sk-container\" hidden><div class=\"sk-item\"><div class=\"sk-estimator sk-toggleable\"><input class=\"sk-toggleable__control sk-hidden--visually\" id=\"sk-estimator-id-3\" type=\"checkbox\" checked><label for=\"sk-estimator-id-3\" class=\"sk-toggleable__label sk-toggleable__label-arrow\">SVC</label><div class=\"sk-toggleable__content\"><pre>SVC(kernel=&#x27;linear&#x27;)</pre></div></div></div></div></div>"
      ],
      "text/plain": [
       "SVC(kernel='linear')"
      ]
     },
     "execution_count": 21,
     "metadata": {},
     "output_type": "execute_result"
    }
   ],
   "source": [
    "# Treinar um modelo SVM\n",
    "svm_model = SVC(kernel='linear')\n",
    "svm_model.fit(X_train_vectorized, y_train)"
   ]
  },
  {
   "cell_type": "code",
   "execution_count": 22,
   "id": "2e7e3f93-4649-485d-b24d-dd564755b1cb",
   "metadata": {},
   "outputs": [
    {
     "name": "stdout",
     "output_type": "stream",
     "text": [
      "                                               precision    recall  f1-score   support\n",
      "\n",
      "                                        CCMEI       1.00      1.00      1.00        10\n",
      "                              Contrato social       0.98      0.98      0.98        48\n",
      "         Não é documento válido - Cartão CNPJ       1.00      1.00      1.00         4\n",
      "Não é documento válido - Contrato de trabalho       0.98      1.00      0.99        51\n",
      "                      Requerimento Empresário       1.00      0.91      0.95        11\n",
      "\n",
      "                                     accuracy                           0.98       124\n",
      "                                    macro avg       0.99      0.98      0.98       124\n",
      "                                 weighted avg       0.98      0.98      0.98       124\n",
      "\n"
     ]
    }
   ],
   "source": [
    "# Avaliar o modelo\n",
    "y_pred = svm_model.predict(X_test_vectorized)\n",
    "print(classification_report(y_test, y_pred))"
   ]
  },
  {
   "cell_type": "code",
   "execution_count": 23,
   "id": "706633b5-8aaf-4d9f-83b9-1bec02fd4b69",
   "metadata": {},
   "outputs": [
    {
     "data": {
      "text/plain": [
       "['vectorizer.pkl']"
      ]
     },
     "execution_count": 23,
     "metadata": {},
     "output_type": "execute_result"
    }
   ],
   "source": [
    "import joblib\n",
    "\n",
    "# Salvar o modelo em um arquivo pickle\n",
    "joblib.dump(svm_model, 'model.pkl')\n",
    "\n",
    "# Salvar o vectorizer em um arquivo pickle\n",
    "joblib.dump(vectorizer, 'vectorizer.pkl')"
   ]
  }
 ],
 "metadata": {
  "kernelspec": {
   "display_name": "Python 3 (ipykernel)",
   "language": "python",
   "name": "python3"
  },
  "language_info": {
   "codemirror_mode": {
    "name": "ipython",
    "version": 3
   },
   "file_extension": ".py",
   "mimetype": "text/x-python",
   "name": "python",
   "nbconvert_exporter": "python",
   "pygments_lexer": "ipython3",
   "version": "3.11.7"
  }
 },
 "nbformat": 4,
 "nbformat_minor": 5
}
